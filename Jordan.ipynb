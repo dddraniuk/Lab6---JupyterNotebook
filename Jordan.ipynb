{
 "cells": [
  {
   "cell_type": "markdown",
   "id": "4b1b81d2-d7f4-4ad2-9a32-fc883acb945b",
   "metadata": {},
   "source": [
    "# Йорданія (Hashemite Kingdom of Jordan)\n",
    "\n",
    "<div style=\"border:2px solid #444; padding:10px; border-radius:8px; background:#f9f9f9;\">\n",
    "  <h2 style=\"color:#006400;\">Коротко</h2>\n",
    "  <p><strong>Площа:</strong> <span style=\"color:#000080;\">89,342 км²</span></p>\n",
    "  <p><strong>Населення:</strong> <span style=\"color:#800000;\">~10 мільйонів</span></p>\n",
    "  <p><strong>Уряд:</strong> Конституційна монархія (<em>король Абдулла II</em>)</p>\n",
    "</div>\n",
    "\n",
    "## Відомі особистості\n",
    "- Культурні діячі:\n",
    "  - *Саба Мубарак* — **актриса та продюсерка**\n",
    "- Спортсмени:\n",
    "  - *Ахмад Абугауш* — **тхеквондист, олімпійський чемпіон**\n",
    "- Політика:\n",
    "  - **Король Абдулла II** — чинний монарх\n",
    "\n",
    "### Культура та пам'ятки\n",
    "1. Історичні:\n",
    "   - [Петра](https://uk.wikipedia.org/wiki/%D0%9F%D0%B5%D1%82%D1%80%D0%B0) — давнє археологічне місто, висічене у скелях\n",
    "   - Джараш — римські руїни\n",
    "2. Природні:\n",
    "   - Мертве море — найнижча точка суші\n",
    "   - Ваді Рам — пустельні пейзажі\n",
    "\n",
    "### Таблиця — швидка довідка\n",
    "\n",
    "| Категорія      | Інформація |\n",
    "|----------------|------------|\n",
    "| Столиця        | Амман |\n",
    "| Офіційна мова  | арабська |\n",
    "| Грошова одиниця| йорданський динар (JOD) |\n",
    "\n",
    "### Вкладений список — свята й традиції\n",
    "- Релігійні свята:\n",
    "  - Курбан-байрам\n",
    "  - Рамадан\n",
    "- Національні:\n",
    "  - День незалежності\n",
    "\n",
    "### Зображення та прапор\n",
    "\n",
    "\n",
    "<img src=\"https://upload.wikimedia.org/wikipedia/commons/c/c0/Flag_of_Jordan.svg\" alt=\"Прапор Йорданії\" width=\"360\"/>\n",
    "\n",
    "[Вікіпедія — Йорданія](https://uk.wikipedia.org/wiki/%D0%99%D0%BE%D1%80%D0%B4%D0%B0%D0%BD%D1%96%D1%8F)\n",
    "\n"
   ]
  },
  {
   "cell_type": "code",
   "execution_count": null,
   "id": "96faba48-94c8-4bfe-ac30-0c5ec759f824",
   "metadata": {},
   "outputs": [],
   "source": [
    "import math\n",
    "\n",
    "a = int(input(\"Введіть число a: \"))\n",
    "b = int(input(\"Введіть число b: \"))\n",
    "\n",
    "if a > b:\n",
    "    a, b = b, a\n",
    "\n",
    "print(f\"Прості числа на інтервалі [{a}, {b}]:\")\n",
    "for num in range(a, b + 1):\n",
    "    if num > 1:\n",
    "        is_prime = True\n",
    "        for i in range(2, int(math.sqrt(num)) + 1):\n",
    "            if num % i == 0:\n",
    "                is_prime = False\n",
    "                break\n",
    "        if is_prime:\n",
    "            print(num, end=\" \")\n"
   ]
  },
  {
   "cell_type": "code",
   "execution_count": null,
   "id": "6807c308-1854-4b46-8e61-9bc1b98b80ac",
   "metadata": {},
   "outputs": [],
   "source": []
  }
 ],
 "metadata": {
  "kernelspec": {
   "display_name": "Python 3 (ipykernel)",
   "language": "python",
   "name": "python3"
  },
  "language_info": {
   "codemirror_mode": {
    "name": "ipython",
    "version": 3
   },
   "file_extension": ".py",
   "mimetype": "text/x-python",
   "name": "python",
   "nbconvert_exporter": "python",
   "pygments_lexer": "ipython3",
   "version": "3.13.5"
  }
 },
 "nbformat": 4,
 "nbformat_minor": 5
}
